{
  "cells": [
    {
      "cell_type": "markdown",
      "metadata": {
        "id": "kHxERovccCvB"
      },
      "source": [
        "# Machine Learning"
      ]
    },
    {
      "cell_type": "markdown",
      "source": [
        "Now we're going to try and use machine learning to predict the Popularity Category of a track using the features in our DataFrame.\n",
        "\n",
        "\n"
      ],
      "metadata": {
        "id": "i4QzD0SYLhaM"
      }
    },
    {
      "cell_type": "markdown",
      "source": [
        "First we, import our dataset that we created"
      ],
      "metadata": {
        "id": "KbOSUHul2R3F"
      }
    },
    {
      "cell_type": "code",
      "source": [
        "import pandas as pd\n",
        "df = pd.read_csv('/content/output.csv')\n",
        "df = df.iloc[: , 1:]\n",
        "\n",
        "df"
      ],
      "metadata": {
        "colab": {
          "base_uri": "https://localhost:8080/",
          "height": 1000
        },
        "id": "R-V7Fn1O2U2h",
        "outputId": "e4aa6d9b-9221-4cbe-e0c5-022a410d9878"
      },
      "execution_count": 1,
      "outputs": [
        {
          "output_type": "execute_result",
          "data": {
            "text/plain": [
              "                         Title  Popularity              Artist  \\\n",
              "0                   God's Plan        83.0               Drake   \n",
              "1                 Lucid Dreams        83.0          Juice WRLD   \n",
              "2                   SICKO MODE        81.0        Travis Scott   \n",
              "3                        a lot        80.0           21 Savage   \n",
              "4                    Plug Walk        69.0        Rich The Kid   \n",
              "..                         ...         ...                 ...   \n",
              "113                         OD        32.0     Earl Sweatshirt   \n",
              "114             Lost and Found        19.0        Domo Genesis   \n",
              "115  Gwendolynn's Apprehension        46.0        Mick Jenkins   \n",
              "116                     Truman        35.0           Lil Dicky   \n",
              "117         Harlem Renaissance        28.0  Immortal Technique   \n",
              "\n",
              "                       Album  Number of Tracks in Album  \\\n",
              "0                   Scorpion                         25   \n",
              "1    Goodbye & Good Riddance                         17   \n",
              "2                 ASTROWORLD                         17   \n",
              "3               i am > i was                         15   \n",
              "4         The World Is Yours                         15   \n",
              "..                       ...                        ...   \n",
              "113             FEET OF CLAY                          7   \n",
              "114                  Genesis                         12   \n",
              "115          Pieces of a Man                         17   \n",
              "116      Professional Rapper                         20   \n",
              "117            The 3rd World                         18   \n",
              "\n",
              "                                       Related Artists  Explicit  \\\n",
              "0    Big Sean, J. Cole, DJ Khaled, Meek Mill, Futur...  Explicit   \n",
              "1    NAV, Comethazine, Trippie Redd, Lil Tecca, Blu...  Explicit   \n",
              "2    A$AP Rocky, A$AP Ferg, Chief Keef, Joey Bada$$...  Explicit   \n",
              "3    Quavo, Gunna, Young Thug, Don Toliver, Huncho ...  Explicit   \n",
              "4    Quality Control, Famous Dex, Baka Not Nice, Yu...  Explicit   \n",
              "..                                                 ...       ...   \n",
              "113  MellowHype, Domo Genesis, Vince Staples, Mike ...  Explicit   \n",
              "114  MellowHype, Mike G, MellowHigh, Jet Age of Tom...  Explicit   \n",
              "115  Saba, Pivot Gang, Kirk Knight, Rejjie Snow, AK...  Explicit   \n",
              "116  VIC MENSA, Bryce Vine, Chris Webby, Hoodie All...  Explicit   \n",
              "117  Jedi Mind Tricks, Army Of The Pharaohs, R.A. T...  Explicit   \n",
              "\n",
              "     Average Duration of Segments  brightness   flatness  ...  liveness  \\\n",
              "0                      231.890759   39.845464  21.759221  ...     0.552   \n",
              "1                      250.671292   26.918125 -22.883286  ...     0.340   \n",
              "2                      236.685634   58.408027 -24.692282  ...     0.124   \n",
              "3                      283.760186   10.461452 -52.394945  ...     0.342   \n",
              "4                      223.249444   24.667761   6.185388  ...     0.108   \n",
              "..                            ...         ...        ...  ...       ...   \n",
              "113                    258.737655   36.678746 -10.348722  ...     0.134   \n",
              "114                    262.822182   29.689132 -47.382963  ...     0.104   \n",
              "115                    264.972310    9.048543 -10.534785  ...     0.120   \n",
              "116                    287.618539    1.527897  13.110137  ...     0.339   \n",
              "117                    275.613552   66.654272   6.501915  ...     0.392   \n",
              "\n",
              "     valence    tempo   duration  time_signature   fade in  fade out  \\\n",
              "0      0.357   77.169   3.316217               4  0.000000  0.068333   \n",
              "1      0.218   83.903   3.997267               4  0.000314  0.054277   \n",
              "2      0.446  155.008   5.213667               4  0.000000  0.018448   \n",
              "3      0.274  145.972   4.810400               4  0.000229  0.044449   \n",
              "4      0.158   94.981   2.920500               4  0.000565  0.108696   \n",
              "..       ...      ...        ...             ...       ...       ...   \n",
              "113    0.458  123.287   1.584617               1  0.001159 -0.000003   \n",
              "114    0.725   97.017   2.560667               4  0.000000  0.068005   \n",
              "115    0.680   91.352   3.758883               4  0.000438  0.037645   \n",
              "116    0.636   88.748  10.242733               4  0.000133  0.010241   \n",
              "117    0.752   90.736   3.737117               4  0.000776  0.013711   \n",
              "\n",
              "                                                  info  \\\n",
              "0                                  Drake may refer to:   \n",
              "1    Jarad Anthony Higgins (December 2, 1998 – Dece...   \n",
              "2    Jacques Bermon Webster II (born April 30, 1991...   \n",
              "3    Shéyaa Bin Abraham-Joseph (born October 22, 19...   \n",
              "4    Dimitri Leslie Roger (born July 13, 1992),[3][...   \n",
              "..                                                 ...   \n",
              "113  Thebe Neruda Kgositsile (born February 24, 199...   \n",
              "114  Dominique Marquis Cole (born March 9, 1991), k...   \n",
              "115                         Mick Jenkins may refer to:   \n",
              "116  David Andrew Burd (born March 15, 1988), bette...   \n",
              "117  Felipe Andres Coronel (born February 19, 1978)...   \n",
              "\n",
              "                                                Lyrics  Popularity Categories  \n",
              "0    Yeah, they wishin' and wishin' and wishin' and...                   High  \n",
              "1    Enviyon on the mix  No, no, no, no No, no, no,...                   High  \n",
              "2    Astro' Yeah  Sun is down, freezing cold That's...                   High  \n",
              "3    I love you Turn my headphone down a little bit...                   High  \n",
              "4    Ayy, ayy, plug walk (plug walk, plug, plug) I ...                 Medium  \n",
              "..                                                 ...                    ...  \n",
              "113  Give it up, we  Somebody tooted in the student...                    Low  \n",
              "114  Some of those you can take off though I don't ...                    Low  \n",
              "115  We, real cool We, left school We, lurk late We...                    Low  \n",
              "116  Ay Man Man Ay  I guess ya'll on board Young ma...                    Low  \n",
              "117  \"Let me welcome both of you Uh, to the show th...                    Low  \n",
              "\n",
              "[118 rows x 28 columns]"
            ],
            "text/html": [
              "\n",
              "  <div id=\"df-0998757a-e8e4-42db-9a8b-c1c8a97c085b\">\n",
              "    <div class=\"colab-df-container\">\n",
              "      <div>\n",
              "<style scoped>\n",
              "    .dataframe tbody tr th:only-of-type {\n",
              "        vertical-align: middle;\n",
              "    }\n",
              "\n",
              "    .dataframe tbody tr th {\n",
              "        vertical-align: top;\n",
              "    }\n",
              "\n",
              "    .dataframe thead th {\n",
              "        text-align: right;\n",
              "    }\n",
              "</style>\n",
              "<table border=\"1\" class=\"dataframe\">\n",
              "  <thead>\n",
              "    <tr style=\"text-align: right;\">\n",
              "      <th></th>\n",
              "      <th>Title</th>\n",
              "      <th>Popularity</th>\n",
              "      <th>Artist</th>\n",
              "      <th>Album</th>\n",
              "      <th>Number of Tracks in Album</th>\n",
              "      <th>Related Artists</th>\n",
              "      <th>Explicit</th>\n",
              "      <th>Average Duration of Segments</th>\n",
              "      <th>brightness</th>\n",
              "      <th>flatness</th>\n",
              "      <th>...</th>\n",
              "      <th>liveness</th>\n",
              "      <th>valence</th>\n",
              "      <th>tempo</th>\n",
              "      <th>duration</th>\n",
              "      <th>time_signature</th>\n",
              "      <th>fade in</th>\n",
              "      <th>fade out</th>\n",
              "      <th>info</th>\n",
              "      <th>Lyrics</th>\n",
              "      <th>Popularity Categories</th>\n",
              "    </tr>\n",
              "  </thead>\n",
              "  <tbody>\n",
              "    <tr>\n",
              "      <th>0</th>\n",
              "      <td>God's Plan</td>\n",
              "      <td>83.0</td>\n",
              "      <td>Drake</td>\n",
              "      <td>Scorpion</td>\n",
              "      <td>25</td>\n",
              "      <td>Big Sean, J. Cole, DJ Khaled, Meek Mill, Futur...</td>\n",
              "      <td>Explicit</td>\n",
              "      <td>231.890759</td>\n",
              "      <td>39.845464</td>\n",
              "      <td>21.759221</td>\n",
              "      <td>...</td>\n",
              "      <td>0.552</td>\n",
              "      <td>0.357</td>\n",
              "      <td>77.169</td>\n",
              "      <td>3.316217</td>\n",
              "      <td>4</td>\n",
              "      <td>0.000000</td>\n",
              "      <td>0.068333</td>\n",
              "      <td>Drake may refer to:</td>\n",
              "      <td>Yeah, they wishin' and wishin' and wishin' and...</td>\n",
              "      <td>High</td>\n",
              "    </tr>\n",
              "    <tr>\n",
              "      <th>1</th>\n",
              "      <td>Lucid Dreams</td>\n",
              "      <td>83.0</td>\n",
              "      <td>Juice WRLD</td>\n",
              "      <td>Goodbye &amp; Good Riddance</td>\n",
              "      <td>17</td>\n",
              "      <td>NAV, Comethazine, Trippie Redd, Lil Tecca, Blu...</td>\n",
              "      <td>Explicit</td>\n",
              "      <td>250.671292</td>\n",
              "      <td>26.918125</td>\n",
              "      <td>-22.883286</td>\n",
              "      <td>...</td>\n",
              "      <td>0.340</td>\n",
              "      <td>0.218</td>\n",
              "      <td>83.903</td>\n",
              "      <td>3.997267</td>\n",
              "      <td>4</td>\n",
              "      <td>0.000314</td>\n",
              "      <td>0.054277</td>\n",
              "      <td>Jarad Anthony Higgins (December 2, 1998 – Dece...</td>\n",
              "      <td>Enviyon on the mix  No, no, no, no No, no, no,...</td>\n",
              "      <td>High</td>\n",
              "    </tr>\n",
              "    <tr>\n",
              "      <th>2</th>\n",
              "      <td>SICKO MODE</td>\n",
              "      <td>81.0</td>\n",
              "      <td>Travis Scott</td>\n",
              "      <td>ASTROWORLD</td>\n",
              "      <td>17</td>\n",
              "      <td>A$AP Rocky, A$AP Ferg, Chief Keef, Joey Bada$$...</td>\n",
              "      <td>Explicit</td>\n",
              "      <td>236.685634</td>\n",
              "      <td>58.408027</td>\n",
              "      <td>-24.692282</td>\n",
              "      <td>...</td>\n",
              "      <td>0.124</td>\n",
              "      <td>0.446</td>\n",
              "      <td>155.008</td>\n",
              "      <td>5.213667</td>\n",
              "      <td>4</td>\n",
              "      <td>0.000000</td>\n",
              "      <td>0.018448</td>\n",
              "      <td>Jacques Bermon Webster II (born April 30, 1991...</td>\n",
              "      <td>Astro' Yeah  Sun is down, freezing cold That's...</td>\n",
              "      <td>High</td>\n",
              "    </tr>\n",
              "    <tr>\n",
              "      <th>3</th>\n",
              "      <td>a lot</td>\n",
              "      <td>80.0</td>\n",
              "      <td>21 Savage</td>\n",
              "      <td>i am &gt; i was</td>\n",
              "      <td>15</td>\n",
              "      <td>Quavo, Gunna, Young Thug, Don Toliver, Huncho ...</td>\n",
              "      <td>Explicit</td>\n",
              "      <td>283.760186</td>\n",
              "      <td>10.461452</td>\n",
              "      <td>-52.394945</td>\n",
              "      <td>...</td>\n",
              "      <td>0.342</td>\n",
              "      <td>0.274</td>\n",
              "      <td>145.972</td>\n",
              "      <td>4.810400</td>\n",
              "      <td>4</td>\n",
              "      <td>0.000229</td>\n",
              "      <td>0.044449</td>\n",
              "      <td>Shéyaa Bin Abraham-Joseph (born October 22, 19...</td>\n",
              "      <td>I love you Turn my headphone down a little bit...</td>\n",
              "      <td>High</td>\n",
              "    </tr>\n",
              "    <tr>\n",
              "      <th>4</th>\n",
              "      <td>Plug Walk</td>\n",
              "      <td>69.0</td>\n",
              "      <td>Rich The Kid</td>\n",
              "      <td>The World Is Yours</td>\n",
              "      <td>15</td>\n",
              "      <td>Quality Control, Famous Dex, Baka Not Nice, Yu...</td>\n",
              "      <td>Explicit</td>\n",
              "      <td>223.249444</td>\n",
              "      <td>24.667761</td>\n",
              "      <td>6.185388</td>\n",
              "      <td>...</td>\n",
              "      <td>0.108</td>\n",
              "      <td>0.158</td>\n",
              "      <td>94.981</td>\n",
              "      <td>2.920500</td>\n",
              "      <td>4</td>\n",
              "      <td>0.000565</td>\n",
              "      <td>0.108696</td>\n",
              "      <td>Dimitri Leslie Roger (born July 13, 1992),[3][...</td>\n",
              "      <td>Ayy, ayy, plug walk (plug walk, plug, plug) I ...</td>\n",
              "      <td>Medium</td>\n",
              "    </tr>\n",
              "    <tr>\n",
              "      <th>...</th>\n",
              "      <td>...</td>\n",
              "      <td>...</td>\n",
              "      <td>...</td>\n",
              "      <td>...</td>\n",
              "      <td>...</td>\n",
              "      <td>...</td>\n",
              "      <td>...</td>\n",
              "      <td>...</td>\n",
              "      <td>...</td>\n",
              "      <td>...</td>\n",
              "      <td>...</td>\n",
              "      <td>...</td>\n",
              "      <td>...</td>\n",
              "      <td>...</td>\n",
              "      <td>...</td>\n",
              "      <td>...</td>\n",
              "      <td>...</td>\n",
              "      <td>...</td>\n",
              "      <td>...</td>\n",
              "      <td>...</td>\n",
              "      <td>...</td>\n",
              "    </tr>\n",
              "    <tr>\n",
              "      <th>113</th>\n",
              "      <td>OD</td>\n",
              "      <td>32.0</td>\n",
              "      <td>Earl Sweatshirt</td>\n",
              "      <td>FEET OF CLAY</td>\n",
              "      <td>7</td>\n",
              "      <td>MellowHype, Domo Genesis, Vince Staples, Mike ...</td>\n",
              "      <td>Explicit</td>\n",
              "      <td>258.737655</td>\n",
              "      <td>36.678746</td>\n",
              "      <td>-10.348722</td>\n",
              "      <td>...</td>\n",
              "      <td>0.134</td>\n",
              "      <td>0.458</td>\n",
              "      <td>123.287</td>\n",
              "      <td>1.584617</td>\n",
              "      <td>1</td>\n",
              "      <td>0.001159</td>\n",
              "      <td>-0.000003</td>\n",
              "      <td>Thebe Neruda Kgositsile (born February 24, 199...</td>\n",
              "      <td>Give it up, we  Somebody tooted in the student...</td>\n",
              "      <td>Low</td>\n",
              "    </tr>\n",
              "    <tr>\n",
              "      <th>114</th>\n",
              "      <td>Lost and Found</td>\n",
              "      <td>19.0</td>\n",
              "      <td>Domo Genesis</td>\n",
              "      <td>Genesis</td>\n",
              "      <td>12</td>\n",
              "      <td>MellowHype, Mike G, MellowHigh, Jet Age of Tom...</td>\n",
              "      <td>Explicit</td>\n",
              "      <td>262.822182</td>\n",
              "      <td>29.689132</td>\n",
              "      <td>-47.382963</td>\n",
              "      <td>...</td>\n",
              "      <td>0.104</td>\n",
              "      <td>0.725</td>\n",
              "      <td>97.017</td>\n",
              "      <td>2.560667</td>\n",
              "      <td>4</td>\n",
              "      <td>0.000000</td>\n",
              "      <td>0.068005</td>\n",
              "      <td>Dominique Marquis Cole (born March 9, 1991), k...</td>\n",
              "      <td>Some of those you can take off though I don't ...</td>\n",
              "      <td>Low</td>\n",
              "    </tr>\n",
              "    <tr>\n",
              "      <th>115</th>\n",
              "      <td>Gwendolynn's Apprehension</td>\n",
              "      <td>46.0</td>\n",
              "      <td>Mick Jenkins</td>\n",
              "      <td>Pieces of a Man</td>\n",
              "      <td>17</td>\n",
              "      <td>Saba, Pivot Gang, Kirk Knight, Rejjie Snow, AK...</td>\n",
              "      <td>Explicit</td>\n",
              "      <td>264.972310</td>\n",
              "      <td>9.048543</td>\n",
              "      <td>-10.534785</td>\n",
              "      <td>...</td>\n",
              "      <td>0.120</td>\n",
              "      <td>0.680</td>\n",
              "      <td>91.352</td>\n",
              "      <td>3.758883</td>\n",
              "      <td>4</td>\n",
              "      <td>0.000438</td>\n",
              "      <td>0.037645</td>\n",
              "      <td>Mick Jenkins may refer to:</td>\n",
              "      <td>We, real cool We, left school We, lurk late We...</td>\n",
              "      <td>Low</td>\n",
              "    </tr>\n",
              "    <tr>\n",
              "      <th>116</th>\n",
              "      <td>Truman</td>\n",
              "      <td>35.0</td>\n",
              "      <td>Lil Dicky</td>\n",
              "      <td>Professional Rapper</td>\n",
              "      <td>20</td>\n",
              "      <td>VIC MENSA, Bryce Vine, Chris Webby, Hoodie All...</td>\n",
              "      <td>Explicit</td>\n",
              "      <td>287.618539</td>\n",
              "      <td>1.527897</td>\n",
              "      <td>13.110137</td>\n",
              "      <td>...</td>\n",
              "      <td>0.339</td>\n",
              "      <td>0.636</td>\n",
              "      <td>88.748</td>\n",
              "      <td>10.242733</td>\n",
              "      <td>4</td>\n",
              "      <td>0.000133</td>\n",
              "      <td>0.010241</td>\n",
              "      <td>David Andrew Burd (born March 15, 1988), bette...</td>\n",
              "      <td>Ay Man Man Ay  I guess ya'll on board Young ma...</td>\n",
              "      <td>Low</td>\n",
              "    </tr>\n",
              "    <tr>\n",
              "      <th>117</th>\n",
              "      <td>Harlem Renaissance</td>\n",
              "      <td>28.0</td>\n",
              "      <td>Immortal Technique</td>\n",
              "      <td>The 3rd World</td>\n",
              "      <td>18</td>\n",
              "      <td>Jedi Mind Tricks, Army Of The Pharaohs, R.A. T...</td>\n",
              "      <td>Explicit</td>\n",
              "      <td>275.613552</td>\n",
              "      <td>66.654272</td>\n",
              "      <td>6.501915</td>\n",
              "      <td>...</td>\n",
              "      <td>0.392</td>\n",
              "      <td>0.752</td>\n",
              "      <td>90.736</td>\n",
              "      <td>3.737117</td>\n",
              "      <td>4</td>\n",
              "      <td>0.000776</td>\n",
              "      <td>0.013711</td>\n",
              "      <td>Felipe Andres Coronel (born February 19, 1978)...</td>\n",
              "      <td>\"Let me welcome both of you Uh, to the show th...</td>\n",
              "      <td>Low</td>\n",
              "    </tr>\n",
              "  </tbody>\n",
              "</table>\n",
              "<p>118 rows × 28 columns</p>\n",
              "</div>\n",
              "      <button class=\"colab-df-convert\" onclick=\"convertToInteractive('df-0998757a-e8e4-42db-9a8b-c1c8a97c085b')\"\n",
              "              title=\"Convert this dataframe to an interactive table.\"\n",
              "              style=\"display:none;\">\n",
              "        \n",
              "  <svg xmlns=\"http://www.w3.org/2000/svg\" height=\"24px\"viewBox=\"0 0 24 24\"\n",
              "       width=\"24px\">\n",
              "    <path d=\"M0 0h24v24H0V0z\" fill=\"none\"/>\n",
              "    <path d=\"M18.56 5.44l.94 2.06.94-2.06 2.06-.94-2.06-.94-.94-2.06-.94 2.06-2.06.94zm-11 1L8.5 8.5l.94-2.06 2.06-.94-2.06-.94L8.5 2.5l-.94 2.06-2.06.94zm10 10l.94 2.06.94-2.06 2.06-.94-2.06-.94-.94-2.06-.94 2.06-2.06.94z\"/><path d=\"M17.41 7.96l-1.37-1.37c-.4-.4-.92-.59-1.43-.59-.52 0-1.04.2-1.43.59L10.3 9.45l-7.72 7.72c-.78.78-.78 2.05 0 2.83L4 21.41c.39.39.9.59 1.41.59.51 0 1.02-.2 1.41-.59l7.78-7.78 2.81-2.81c.8-.78.8-2.07 0-2.86zM5.41 20L4 18.59l7.72-7.72 1.47 1.35L5.41 20z\"/>\n",
              "  </svg>\n",
              "      </button>\n",
              "      \n",
              "  <style>\n",
              "    .colab-df-container {\n",
              "      display:flex;\n",
              "      flex-wrap:wrap;\n",
              "      gap: 12px;\n",
              "    }\n",
              "\n",
              "    .colab-df-convert {\n",
              "      background-color: #E8F0FE;\n",
              "      border: none;\n",
              "      border-radius: 50%;\n",
              "      cursor: pointer;\n",
              "      display: none;\n",
              "      fill: #1967D2;\n",
              "      height: 32px;\n",
              "      padding: 0 0 0 0;\n",
              "      width: 32px;\n",
              "    }\n",
              "\n",
              "    .colab-df-convert:hover {\n",
              "      background-color: #E2EBFA;\n",
              "      box-shadow: 0px 1px 2px rgba(60, 64, 67, 0.3), 0px 1px 3px 1px rgba(60, 64, 67, 0.15);\n",
              "      fill: #174EA6;\n",
              "    }\n",
              "\n",
              "    [theme=dark] .colab-df-convert {\n",
              "      background-color: #3B4455;\n",
              "      fill: #D2E3FC;\n",
              "    }\n",
              "\n",
              "    [theme=dark] .colab-df-convert:hover {\n",
              "      background-color: #434B5C;\n",
              "      box-shadow: 0px 1px 3px 1px rgba(0, 0, 0, 0.15);\n",
              "      filter: drop-shadow(0px 1px 2px rgba(0, 0, 0, 0.3));\n",
              "      fill: #FFFFFF;\n",
              "    }\n",
              "  </style>\n",
              "\n",
              "      <script>\n",
              "        const buttonEl =\n",
              "          document.querySelector('#df-0998757a-e8e4-42db-9a8b-c1c8a97c085b button.colab-df-convert');\n",
              "        buttonEl.style.display =\n",
              "          google.colab.kernel.accessAllowed ? 'block' : 'none';\n",
              "\n",
              "        async function convertToInteractive(key) {\n",
              "          const element = document.querySelector('#df-0998757a-e8e4-42db-9a8b-c1c8a97c085b');\n",
              "          const dataTable =\n",
              "            await google.colab.kernel.invokeFunction('convertToInteractive',\n",
              "                                                     [key], {});\n",
              "          if (!dataTable) return;\n",
              "\n",
              "          const docLinkHtml = 'Like what you see? Visit the ' +\n",
              "            '<a target=\"_blank\" href=https://colab.research.google.com/notebooks/data_table.ipynb>data table notebook</a>'\n",
              "            + ' to learn more about interactive tables.';\n",
              "          element.innerHTML = '';\n",
              "          dataTable['output_type'] = 'display_data';\n",
              "          await google.colab.output.renderOutput(dataTable, element);\n",
              "          const docLink = document.createElement('div');\n",
              "          docLink.innerHTML = docLinkHtml;\n",
              "          element.appendChild(docLink);\n",
              "        }\n",
              "      </script>\n",
              "    </div>\n",
              "  </div>\n",
              "  "
            ]
          },
          "metadata": {},
          "execution_count": 1
        }
      ]
    },
    {
      "cell_type": "code",
      "source": [
        "#importing libraries\n",
        "from sklearn.compose import ColumnTransformer\n",
        "from sklearn.preprocessing import OneHotEncoder\n",
        "from sklearn.preprocessing import StandardScaler\n",
        "from sklearn.compose import make_column_transformer\n",
        "from sklearn.feature_extraction.text import TfidfVectorizer\n",
        "from sklearn.model_selection import cross_val_score\n",
        "from sklearn.metrics import mean_squared_error\n",
        "from sklearn.pipeline import make_pipeline\n",
        "from sklearn.preprocessing import StandardScaler\n",
        "from sklearn.neighbors import KNeighborsClassifier\n",
        "import numpy as np\n",
        "from sklearn.model_selection import GridSearchCV\n",
        "from sklearn.preprocessing import MinMaxScaler\n",
        "from sklearn.preprocessing import MaxAbsScaler\n",
        "from sklearn.preprocessing import RobustScaler\n",
        "from sklearn import svm\n",
        "\n",
        "df.dropna()"
      ],
      "metadata": {
        "colab": {
          "base_uri": "https://localhost:8080/",
          "height": 1000
        },
        "id": "MTNKabb8pfFS",
        "outputId": "6ab19a91-4b38-46d2-a86a-56c54250bc5a"
      },
      "execution_count": 2,
      "outputs": [
        {
          "output_type": "execute_result",
          "data": {
            "text/plain": [
              "                         Title  Popularity              Artist  \\\n",
              "0                   God's Plan        83.0               Drake   \n",
              "1                 Lucid Dreams        83.0          Juice WRLD   \n",
              "2                   SICKO MODE        81.0        Travis Scott   \n",
              "3                        a lot        80.0           21 Savage   \n",
              "4                    Plug Walk        69.0        Rich The Kid   \n",
              "..                         ...         ...                 ...   \n",
              "113                         OD        32.0     Earl Sweatshirt   \n",
              "114             Lost and Found        19.0        Domo Genesis   \n",
              "115  Gwendolynn's Apprehension        46.0        Mick Jenkins   \n",
              "116                     Truman        35.0           Lil Dicky   \n",
              "117         Harlem Renaissance        28.0  Immortal Technique   \n",
              "\n",
              "                       Album  Number of Tracks in Album  \\\n",
              "0                   Scorpion                         25   \n",
              "1    Goodbye & Good Riddance                         17   \n",
              "2                 ASTROWORLD                         17   \n",
              "3               i am > i was                         15   \n",
              "4         The World Is Yours                         15   \n",
              "..                       ...                        ...   \n",
              "113             FEET OF CLAY                          7   \n",
              "114                  Genesis                         12   \n",
              "115          Pieces of a Man                         17   \n",
              "116      Professional Rapper                         20   \n",
              "117            The 3rd World                         18   \n",
              "\n",
              "                                       Related Artists  Explicit  \\\n",
              "0    Big Sean, J. Cole, DJ Khaled, Meek Mill, Futur...  Explicit   \n",
              "1    NAV, Comethazine, Trippie Redd, Lil Tecca, Blu...  Explicit   \n",
              "2    A$AP Rocky, A$AP Ferg, Chief Keef, Joey Bada$$...  Explicit   \n",
              "3    Quavo, Gunna, Young Thug, Don Toliver, Huncho ...  Explicit   \n",
              "4    Quality Control, Famous Dex, Baka Not Nice, Yu...  Explicit   \n",
              "..                                                 ...       ...   \n",
              "113  MellowHype, Domo Genesis, Vince Staples, Mike ...  Explicit   \n",
              "114  MellowHype, Mike G, MellowHigh, Jet Age of Tom...  Explicit   \n",
              "115  Saba, Pivot Gang, Kirk Knight, Rejjie Snow, AK...  Explicit   \n",
              "116  VIC MENSA, Bryce Vine, Chris Webby, Hoodie All...  Explicit   \n",
              "117  Jedi Mind Tricks, Army Of The Pharaohs, R.A. T...  Explicit   \n",
              "\n",
              "     Average Duration of Segments  brightness   flatness  ...  liveness  \\\n",
              "0                      231.890759   39.845464  21.759221  ...     0.552   \n",
              "1                      250.671292   26.918125 -22.883286  ...     0.340   \n",
              "2                      236.685634   58.408027 -24.692282  ...     0.124   \n",
              "3                      283.760186   10.461452 -52.394945  ...     0.342   \n",
              "4                      223.249444   24.667761   6.185388  ...     0.108   \n",
              "..                            ...         ...        ...  ...       ...   \n",
              "113                    258.737655   36.678746 -10.348722  ...     0.134   \n",
              "114                    262.822182   29.689132 -47.382963  ...     0.104   \n",
              "115                    264.972310    9.048543 -10.534785  ...     0.120   \n",
              "116                    287.618539    1.527897  13.110137  ...     0.339   \n",
              "117                    275.613552   66.654272   6.501915  ...     0.392   \n",
              "\n",
              "     valence    tempo   duration  time_signature   fade in  fade out  \\\n",
              "0      0.357   77.169   3.316217               4  0.000000  0.068333   \n",
              "1      0.218   83.903   3.997267               4  0.000314  0.054277   \n",
              "2      0.446  155.008   5.213667               4  0.000000  0.018448   \n",
              "3      0.274  145.972   4.810400               4  0.000229  0.044449   \n",
              "4      0.158   94.981   2.920500               4  0.000565  0.108696   \n",
              "..       ...      ...        ...             ...       ...       ...   \n",
              "113    0.458  123.287   1.584617               1  0.001159 -0.000003   \n",
              "114    0.725   97.017   2.560667               4  0.000000  0.068005   \n",
              "115    0.680   91.352   3.758883               4  0.000438  0.037645   \n",
              "116    0.636   88.748  10.242733               4  0.000133  0.010241   \n",
              "117    0.752   90.736   3.737117               4  0.000776  0.013711   \n",
              "\n",
              "                                                  info  \\\n",
              "0                                  Drake may refer to:   \n",
              "1    Jarad Anthony Higgins (December 2, 1998 – Dece...   \n",
              "2    Jacques Bermon Webster II (born April 30, 1991...   \n",
              "3    Shéyaa Bin Abraham-Joseph (born October 22, 19...   \n",
              "4    Dimitri Leslie Roger (born July 13, 1992),[3][...   \n",
              "..                                                 ...   \n",
              "113  Thebe Neruda Kgositsile (born February 24, 199...   \n",
              "114  Dominique Marquis Cole (born March 9, 1991), k...   \n",
              "115                         Mick Jenkins may refer to:   \n",
              "116  David Andrew Burd (born March 15, 1988), bette...   \n",
              "117  Felipe Andres Coronel (born February 19, 1978)...   \n",
              "\n",
              "                                                Lyrics  Popularity Categories  \n",
              "0    Yeah, they wishin' and wishin' and wishin' and...                   High  \n",
              "1    Enviyon on the mix  No, no, no, no No, no, no,...                   High  \n",
              "2    Astro' Yeah  Sun is down, freezing cold That's...                   High  \n",
              "3    I love you Turn my headphone down a little bit...                   High  \n",
              "4    Ayy, ayy, plug walk (plug walk, plug, plug) I ...                 Medium  \n",
              "..                                                 ...                    ...  \n",
              "113  Give it up, we  Somebody tooted in the student...                    Low  \n",
              "114  Some of those you can take off though I don't ...                    Low  \n",
              "115  We, real cool We, left school We, lurk late We...                    Low  \n",
              "116  Ay Man Man Ay  I guess ya'll on board Young ma...                    Low  \n",
              "117  \"Let me welcome both of you Uh, to the show th...                    Low  \n",
              "\n",
              "[118 rows x 28 columns]"
            ],
            "text/html": [
              "\n",
              "  <div id=\"df-0b6161d0-b49e-4400-9511-194e6424ecb0\">\n",
              "    <div class=\"colab-df-container\">\n",
              "      <div>\n",
              "<style scoped>\n",
              "    .dataframe tbody tr th:only-of-type {\n",
              "        vertical-align: middle;\n",
              "    }\n",
              "\n",
              "    .dataframe tbody tr th {\n",
              "        vertical-align: top;\n",
              "    }\n",
              "\n",
              "    .dataframe thead th {\n",
              "        text-align: right;\n",
              "    }\n",
              "</style>\n",
              "<table border=\"1\" class=\"dataframe\">\n",
              "  <thead>\n",
              "    <tr style=\"text-align: right;\">\n",
              "      <th></th>\n",
              "      <th>Title</th>\n",
              "      <th>Popularity</th>\n",
              "      <th>Artist</th>\n",
              "      <th>Album</th>\n",
              "      <th>Number of Tracks in Album</th>\n",
              "      <th>Related Artists</th>\n",
              "      <th>Explicit</th>\n",
              "      <th>Average Duration of Segments</th>\n",
              "      <th>brightness</th>\n",
              "      <th>flatness</th>\n",
              "      <th>...</th>\n",
              "      <th>liveness</th>\n",
              "      <th>valence</th>\n",
              "      <th>tempo</th>\n",
              "      <th>duration</th>\n",
              "      <th>time_signature</th>\n",
              "      <th>fade in</th>\n",
              "      <th>fade out</th>\n",
              "      <th>info</th>\n",
              "      <th>Lyrics</th>\n",
              "      <th>Popularity Categories</th>\n",
              "    </tr>\n",
              "  </thead>\n",
              "  <tbody>\n",
              "    <tr>\n",
              "      <th>0</th>\n",
              "      <td>God's Plan</td>\n",
              "      <td>83.0</td>\n",
              "      <td>Drake</td>\n",
              "      <td>Scorpion</td>\n",
              "      <td>25</td>\n",
              "      <td>Big Sean, J. Cole, DJ Khaled, Meek Mill, Futur...</td>\n",
              "      <td>Explicit</td>\n",
              "      <td>231.890759</td>\n",
              "      <td>39.845464</td>\n",
              "      <td>21.759221</td>\n",
              "      <td>...</td>\n",
              "      <td>0.552</td>\n",
              "      <td>0.357</td>\n",
              "      <td>77.169</td>\n",
              "      <td>3.316217</td>\n",
              "      <td>4</td>\n",
              "      <td>0.000000</td>\n",
              "      <td>0.068333</td>\n",
              "      <td>Drake may refer to:</td>\n",
              "      <td>Yeah, they wishin' and wishin' and wishin' and...</td>\n",
              "      <td>High</td>\n",
              "    </tr>\n",
              "    <tr>\n",
              "      <th>1</th>\n",
              "      <td>Lucid Dreams</td>\n",
              "      <td>83.0</td>\n",
              "      <td>Juice WRLD</td>\n",
              "      <td>Goodbye &amp; Good Riddance</td>\n",
              "      <td>17</td>\n",
              "      <td>NAV, Comethazine, Trippie Redd, Lil Tecca, Blu...</td>\n",
              "      <td>Explicit</td>\n",
              "      <td>250.671292</td>\n",
              "      <td>26.918125</td>\n",
              "      <td>-22.883286</td>\n",
              "      <td>...</td>\n",
              "      <td>0.340</td>\n",
              "      <td>0.218</td>\n",
              "      <td>83.903</td>\n",
              "      <td>3.997267</td>\n",
              "      <td>4</td>\n",
              "      <td>0.000314</td>\n",
              "      <td>0.054277</td>\n",
              "      <td>Jarad Anthony Higgins (December 2, 1998 – Dece...</td>\n",
              "      <td>Enviyon on the mix  No, no, no, no No, no, no,...</td>\n",
              "      <td>High</td>\n",
              "    </tr>\n",
              "    <tr>\n",
              "      <th>2</th>\n",
              "      <td>SICKO MODE</td>\n",
              "      <td>81.0</td>\n",
              "      <td>Travis Scott</td>\n",
              "      <td>ASTROWORLD</td>\n",
              "      <td>17</td>\n",
              "      <td>A$AP Rocky, A$AP Ferg, Chief Keef, Joey Bada$$...</td>\n",
              "      <td>Explicit</td>\n",
              "      <td>236.685634</td>\n",
              "      <td>58.408027</td>\n",
              "      <td>-24.692282</td>\n",
              "      <td>...</td>\n",
              "      <td>0.124</td>\n",
              "      <td>0.446</td>\n",
              "      <td>155.008</td>\n",
              "      <td>5.213667</td>\n",
              "      <td>4</td>\n",
              "      <td>0.000000</td>\n",
              "      <td>0.018448</td>\n",
              "      <td>Jacques Bermon Webster II (born April 30, 1991...</td>\n",
              "      <td>Astro' Yeah  Sun is down, freezing cold That's...</td>\n",
              "      <td>High</td>\n",
              "    </tr>\n",
              "    <tr>\n",
              "      <th>3</th>\n",
              "      <td>a lot</td>\n",
              "      <td>80.0</td>\n",
              "      <td>21 Savage</td>\n",
              "      <td>i am &gt; i was</td>\n",
              "      <td>15</td>\n",
              "      <td>Quavo, Gunna, Young Thug, Don Toliver, Huncho ...</td>\n",
              "      <td>Explicit</td>\n",
              "      <td>283.760186</td>\n",
              "      <td>10.461452</td>\n",
              "      <td>-52.394945</td>\n",
              "      <td>...</td>\n",
              "      <td>0.342</td>\n",
              "      <td>0.274</td>\n",
              "      <td>145.972</td>\n",
              "      <td>4.810400</td>\n",
              "      <td>4</td>\n",
              "      <td>0.000229</td>\n",
              "      <td>0.044449</td>\n",
              "      <td>Shéyaa Bin Abraham-Joseph (born October 22, 19...</td>\n",
              "      <td>I love you Turn my headphone down a little bit...</td>\n",
              "      <td>High</td>\n",
              "    </tr>\n",
              "    <tr>\n",
              "      <th>4</th>\n",
              "      <td>Plug Walk</td>\n",
              "      <td>69.0</td>\n",
              "      <td>Rich The Kid</td>\n",
              "      <td>The World Is Yours</td>\n",
              "      <td>15</td>\n",
              "      <td>Quality Control, Famous Dex, Baka Not Nice, Yu...</td>\n",
              "      <td>Explicit</td>\n",
              "      <td>223.249444</td>\n",
              "      <td>24.667761</td>\n",
              "      <td>6.185388</td>\n",
              "      <td>...</td>\n",
              "      <td>0.108</td>\n",
              "      <td>0.158</td>\n",
              "      <td>94.981</td>\n",
              "      <td>2.920500</td>\n",
              "      <td>4</td>\n",
              "      <td>0.000565</td>\n",
              "      <td>0.108696</td>\n",
              "      <td>Dimitri Leslie Roger (born July 13, 1992),[3][...</td>\n",
              "      <td>Ayy, ayy, plug walk (plug walk, plug, plug) I ...</td>\n",
              "      <td>Medium</td>\n",
              "    </tr>\n",
              "    <tr>\n",
              "      <th>...</th>\n",
              "      <td>...</td>\n",
              "      <td>...</td>\n",
              "      <td>...</td>\n",
              "      <td>...</td>\n",
              "      <td>...</td>\n",
              "      <td>...</td>\n",
              "      <td>...</td>\n",
              "      <td>...</td>\n",
              "      <td>...</td>\n",
              "      <td>...</td>\n",
              "      <td>...</td>\n",
              "      <td>...</td>\n",
              "      <td>...</td>\n",
              "      <td>...</td>\n",
              "      <td>...</td>\n",
              "      <td>...</td>\n",
              "      <td>...</td>\n",
              "      <td>...</td>\n",
              "      <td>...</td>\n",
              "      <td>...</td>\n",
              "      <td>...</td>\n",
              "    </tr>\n",
              "    <tr>\n",
              "      <th>113</th>\n",
              "      <td>OD</td>\n",
              "      <td>32.0</td>\n",
              "      <td>Earl Sweatshirt</td>\n",
              "      <td>FEET OF CLAY</td>\n",
              "      <td>7</td>\n",
              "      <td>MellowHype, Domo Genesis, Vince Staples, Mike ...</td>\n",
              "      <td>Explicit</td>\n",
              "      <td>258.737655</td>\n",
              "      <td>36.678746</td>\n",
              "      <td>-10.348722</td>\n",
              "      <td>...</td>\n",
              "      <td>0.134</td>\n",
              "      <td>0.458</td>\n",
              "      <td>123.287</td>\n",
              "      <td>1.584617</td>\n",
              "      <td>1</td>\n",
              "      <td>0.001159</td>\n",
              "      <td>-0.000003</td>\n",
              "      <td>Thebe Neruda Kgositsile (born February 24, 199...</td>\n",
              "      <td>Give it up, we  Somebody tooted in the student...</td>\n",
              "      <td>Low</td>\n",
              "    </tr>\n",
              "    <tr>\n",
              "      <th>114</th>\n",
              "      <td>Lost and Found</td>\n",
              "      <td>19.0</td>\n",
              "      <td>Domo Genesis</td>\n",
              "      <td>Genesis</td>\n",
              "      <td>12</td>\n",
              "      <td>MellowHype, Mike G, MellowHigh, Jet Age of Tom...</td>\n",
              "      <td>Explicit</td>\n",
              "      <td>262.822182</td>\n",
              "      <td>29.689132</td>\n",
              "      <td>-47.382963</td>\n",
              "      <td>...</td>\n",
              "      <td>0.104</td>\n",
              "      <td>0.725</td>\n",
              "      <td>97.017</td>\n",
              "      <td>2.560667</td>\n",
              "      <td>4</td>\n",
              "      <td>0.000000</td>\n",
              "      <td>0.068005</td>\n",
              "      <td>Dominique Marquis Cole (born March 9, 1991), k...</td>\n",
              "      <td>Some of those you can take off though I don't ...</td>\n",
              "      <td>Low</td>\n",
              "    </tr>\n",
              "    <tr>\n",
              "      <th>115</th>\n",
              "      <td>Gwendolynn's Apprehension</td>\n",
              "      <td>46.0</td>\n",
              "      <td>Mick Jenkins</td>\n",
              "      <td>Pieces of a Man</td>\n",
              "      <td>17</td>\n",
              "      <td>Saba, Pivot Gang, Kirk Knight, Rejjie Snow, AK...</td>\n",
              "      <td>Explicit</td>\n",
              "      <td>264.972310</td>\n",
              "      <td>9.048543</td>\n",
              "      <td>-10.534785</td>\n",
              "      <td>...</td>\n",
              "      <td>0.120</td>\n",
              "      <td>0.680</td>\n",
              "      <td>91.352</td>\n",
              "      <td>3.758883</td>\n",
              "      <td>4</td>\n",
              "      <td>0.000438</td>\n",
              "      <td>0.037645</td>\n",
              "      <td>Mick Jenkins may refer to:</td>\n",
              "      <td>We, real cool We, left school We, lurk late We...</td>\n",
              "      <td>Low</td>\n",
              "    </tr>\n",
              "    <tr>\n",
              "      <th>116</th>\n",
              "      <td>Truman</td>\n",
              "      <td>35.0</td>\n",
              "      <td>Lil Dicky</td>\n",
              "      <td>Professional Rapper</td>\n",
              "      <td>20</td>\n",
              "      <td>VIC MENSA, Bryce Vine, Chris Webby, Hoodie All...</td>\n",
              "      <td>Explicit</td>\n",
              "      <td>287.618539</td>\n",
              "      <td>1.527897</td>\n",
              "      <td>13.110137</td>\n",
              "      <td>...</td>\n",
              "      <td>0.339</td>\n",
              "      <td>0.636</td>\n",
              "      <td>88.748</td>\n",
              "      <td>10.242733</td>\n",
              "      <td>4</td>\n",
              "      <td>0.000133</td>\n",
              "      <td>0.010241</td>\n",
              "      <td>David Andrew Burd (born March 15, 1988), bette...</td>\n",
              "      <td>Ay Man Man Ay  I guess ya'll on board Young ma...</td>\n",
              "      <td>Low</td>\n",
              "    </tr>\n",
              "    <tr>\n",
              "      <th>117</th>\n",
              "      <td>Harlem Renaissance</td>\n",
              "      <td>28.0</td>\n",
              "      <td>Immortal Technique</td>\n",
              "      <td>The 3rd World</td>\n",
              "      <td>18</td>\n",
              "      <td>Jedi Mind Tricks, Army Of The Pharaohs, R.A. T...</td>\n",
              "      <td>Explicit</td>\n",
              "      <td>275.613552</td>\n",
              "      <td>66.654272</td>\n",
              "      <td>6.501915</td>\n",
              "      <td>...</td>\n",
              "      <td>0.392</td>\n",
              "      <td>0.752</td>\n",
              "      <td>90.736</td>\n",
              "      <td>3.737117</td>\n",
              "      <td>4</td>\n",
              "      <td>0.000776</td>\n",
              "      <td>0.013711</td>\n",
              "      <td>Felipe Andres Coronel (born February 19, 1978)...</td>\n",
              "      <td>\"Let me welcome both of you Uh, to the show th...</td>\n",
              "      <td>Low</td>\n",
              "    </tr>\n",
              "  </tbody>\n",
              "</table>\n",
              "<p>118 rows × 28 columns</p>\n",
              "</div>\n",
              "      <button class=\"colab-df-convert\" onclick=\"convertToInteractive('df-0b6161d0-b49e-4400-9511-194e6424ecb0')\"\n",
              "              title=\"Convert this dataframe to an interactive table.\"\n",
              "              style=\"display:none;\">\n",
              "        \n",
              "  <svg xmlns=\"http://www.w3.org/2000/svg\" height=\"24px\"viewBox=\"0 0 24 24\"\n",
              "       width=\"24px\">\n",
              "    <path d=\"M0 0h24v24H0V0z\" fill=\"none\"/>\n",
              "    <path d=\"M18.56 5.44l.94 2.06.94-2.06 2.06-.94-2.06-.94-.94-2.06-.94 2.06-2.06.94zm-11 1L8.5 8.5l.94-2.06 2.06-.94-2.06-.94L8.5 2.5l-.94 2.06-2.06.94zm10 10l.94 2.06.94-2.06 2.06-.94-2.06-.94-.94-2.06-.94 2.06-2.06.94z\"/><path d=\"M17.41 7.96l-1.37-1.37c-.4-.4-.92-.59-1.43-.59-.52 0-1.04.2-1.43.59L10.3 9.45l-7.72 7.72c-.78.78-.78 2.05 0 2.83L4 21.41c.39.39.9.59 1.41.59.51 0 1.02-.2 1.41-.59l7.78-7.78 2.81-2.81c.8-.78.8-2.07 0-2.86zM5.41 20L4 18.59l7.72-7.72 1.47 1.35L5.41 20z\"/>\n",
              "  </svg>\n",
              "      </button>\n",
              "      \n",
              "  <style>\n",
              "    .colab-df-container {\n",
              "      display:flex;\n",
              "      flex-wrap:wrap;\n",
              "      gap: 12px;\n",
              "    }\n",
              "\n",
              "    .colab-df-convert {\n",
              "      background-color: #E8F0FE;\n",
              "      border: none;\n",
              "      border-radius: 50%;\n",
              "      cursor: pointer;\n",
              "      display: none;\n",
              "      fill: #1967D2;\n",
              "      height: 32px;\n",
              "      padding: 0 0 0 0;\n",
              "      width: 32px;\n",
              "    }\n",
              "\n",
              "    .colab-df-convert:hover {\n",
              "      background-color: #E2EBFA;\n",
              "      box-shadow: 0px 1px 2px rgba(60, 64, 67, 0.3), 0px 1px 3px 1px rgba(60, 64, 67, 0.15);\n",
              "      fill: #174EA6;\n",
              "    }\n",
              "\n",
              "    [theme=dark] .colab-df-convert {\n",
              "      background-color: #3B4455;\n",
              "      fill: #D2E3FC;\n",
              "    }\n",
              "\n",
              "    [theme=dark] .colab-df-convert:hover {\n",
              "      background-color: #434B5C;\n",
              "      box-shadow: 0px 1px 3px 1px rgba(0, 0, 0, 0.15);\n",
              "      filter: drop-shadow(0px 1px 2px rgba(0, 0, 0, 0.3));\n",
              "      fill: #FFFFFF;\n",
              "    }\n",
              "  </style>\n",
              "\n",
              "      <script>\n",
              "        const buttonEl =\n",
              "          document.querySelector('#df-0b6161d0-b49e-4400-9511-194e6424ecb0 button.colab-df-convert');\n",
              "        buttonEl.style.display =\n",
              "          google.colab.kernel.accessAllowed ? 'block' : 'none';\n",
              "\n",
              "        async function convertToInteractive(key) {\n",
              "          const element = document.querySelector('#df-0b6161d0-b49e-4400-9511-194e6424ecb0');\n",
              "          const dataTable =\n",
              "            await google.colab.kernel.invokeFunction('convertToInteractive',\n",
              "                                                     [key], {});\n",
              "          if (!dataTable) return;\n",
              "\n",
              "          const docLinkHtml = 'Like what you see? Visit the ' +\n",
              "            '<a target=\"_blank\" href=https://colab.research.google.com/notebooks/data_table.ipynb>data table notebook</a>'\n",
              "            + ' to learn more about interactive tables.';\n",
              "          element.innerHTML = '';\n",
              "          dataTable['output_type'] = 'display_data';\n",
              "          await google.colab.output.renderOutput(dataTable, element);\n",
              "          const docLink = document.createElement('div');\n",
              "          docLink.innerHTML = docLinkHtml;\n",
              "          element.appendChild(docLink);\n",
              "        }\n",
              "      </script>\n",
              "    </div>\n",
              "  </div>\n",
              "  "
            ]
          },
          "metadata": {},
          "execution_count": 2
        }
      ]
    },
    {
      "cell_type": "markdown",
      "source": [
        "# Feature Selection"
      ],
      "metadata": {
        "id": "qj-nRth64QDH"
      }
    },
    {
      "cell_type": "markdown",
      "source": [
        "Since we're trying to predict the Popularity Category which is a categorical variable, we will use Classifier algorithms on quantitative, categorical, and textual variables.\n",
        "\n",
        "Our choice of quantitative variables comes from the data visualizations in the previous section: Data Exploration, where we discovered that Number of Tracks in Album, attack strength, danceability, loudness, and speechiness have the greatest correlation to popularity. We manually tested if lower correlation quantitative variables increased the f1 score and it didnt so we didn't take it into further modelling. We manually tested a variety of combinations. \n",
        "\n",
        "Through testing, we realized that of the different textual variables: lyrics, info, and Related Artists, Related Artists gives the best predictions. As explained earlier (we gave a hypothesis as to why they werent particularly helpful in an earlier notebook), lyrics and info, while they did improve our f1 score, they didn't do it as well as Related Artists.\n",
        "\n",
        "We also chose our categorical variables: key, mode, and time signature this way by manually testing various combinations of them. The one with the highest f1 score was having all 3. This makes sense given that key and mode likely correlate well with mood which likely correlates well with popularity. Ditto with time signature (likely to correlate with energy/upbeat/tempo correlating with popularity). "
      ],
      "metadata": {
        "id": "mfX0VzHIlnkG"
      }
    },
    {
      "cell_type": "markdown",
      "source": [
        "When creating a pipeline for our machine learning model, we first use a column transformer. This transformer scales the quantitive variables, one hot encodes the categorical variables, and finally uses a Tfidf Vectorizer on the textual variable. Using a for loop, we will determine which scaler (for quantitative variables) gives the best score. We also tried different parameters for TfIDFVectorixer (max words). \n",
        "\n",
        "Then a classifier is used; we start with the K Neighbors Classifier.  \n",
        "\n",
        "To evaluate each of our models, we will be using the f1 micro score. The f1 score combines precision and recall and is calculated using True Positives (TP), False Positives (FP), and False Negatives (FN) using the formula:\n",
        "f1 micro = Net TP/(Net TP + 1/2(Net FP + Net FN)). The actual f1 calculation will be a bit different than this because we have 3 categories not 2. This is also why the scoring metric is f1 micro and not f1 (because the latter only works when we have 2 categories and the former works with multiclass classification). \n",
        "\n"
      ],
      "metadata": {
        "id": "7jgafMZxnV4U"
      }
    },
    {
      "cell_type": "markdown",
      "source": [
        "### **KNN Classifier**"
      ],
      "metadata": {
        "id": "E9lgledB4844"
      }
    },
    {
      "cell_type": "code",
      "source": [
        "quantitative = [\"Number of Tracks in Album\", \"attack strength\", \"danceability\", \"loudness\", \"speechiness\"]\n",
        "categorical = [\"key\", \"mode\",  \"time_signature\"]\n",
        "textual = [\"Related Artists\"]\n",
        "\n",
        "# all the features taken into consideration\n",
        "all =  quantitative + categorical + textual\n",
        "\n",
        "scalers = [StandardScaler(), MinMaxScaler(), MaxAbsScaler(), RobustScaler()]\n",
        "\n",
        "# determining which scaler is best\n",
        "for i in range(len(scalers)):\n",
        "  col_transformer = make_column_transformer(\n",
        "      (scalers[i], quantitative),\n",
        "      (OneHotEncoder(handle_unknown = 'ignore'), categorical),\n",
        "      (TfidfVectorizer(smooth_idf=False, norm=None, max_features = 5), \"Related Artists\"),\n",
        "      remainder = \"drop\"\n",
        "  )\n",
        "\n",
        "  pipeline_k = make_pipeline(\n",
        "    col_transformer,\n",
        "    KNeighborsClassifier(n_neighbors=28, metric=\"manhattan\")\n",
        "  )\n",
        "\n",
        "  scores = cross_val_score(\n",
        "    pipeline_k,\n",
        "    X = df[all],\n",
        "    y = df[\"Popularity Categories\"],\n",
        "    scoring = \"f1_micro\",\n",
        "    cv = 4,   \n",
        "  )\n",
        "  print(scalers[i])\n",
        "  print(scores.mean())"
      ],
      "metadata": {
        "colab": {
          "base_uri": "https://localhost:8080/"
        },
        "id": "j4uBO0lsqSFb",
        "outputId": "dce4f7a8-106d-46e5-c295-9399867c8b4d"
      },
      "execution_count": 3,
      "outputs": [
        {
          "output_type": "stream",
          "name": "stdout",
          "text": [
            "StandardScaler()\n",
            "0.5844827586206897\n",
            "MinMaxScaler()\n",
            "0.4910919540229885\n",
            "MaxAbsScaler()\n",
            "0.5163793103448275\n",
            "RobustScaler()\n",
            "0.5589080459770115\n"
          ]
        }
      ]
    },
    {
      "cell_type": "markdown",
      "source": [
        "Standard Scaler and Robust Scaler give us the best score."
      ],
      "metadata": {
        "id": "a4uFr6Dp8NjP"
      }
    },
    {
      "cell_type": "code",
      "source": [
        "# Best column transformer (using the scaler determined above)\n",
        "col_transformer = make_column_transformer(\n",
        "      (StandardScaler(), quantitative),\n",
        "      (OneHotEncoder(handle_unknown = 'ignore'), categorical),\n",
        "      (TfidfVectorizer(smooth_idf=False, norm=None, max_features = 5), \"Related Artists\"),\n",
        "      remainder = \"drop\"\n",
        "  )"
      ],
      "metadata": {
        "id": "_Dc_LUiq8mx2"
      },
      "execution_count": 4,
      "outputs": []
    },
    {
      "cell_type": "markdown",
      "source": [
        "The next thing we do is hyperparameter tuning for the K Neighbors Classifier. This is to identify the value of k and distance metric that gives the best predictions."
      ],
      "metadata": {
        "id": "0eXFwlOHoJGB"
      }
    },
    {
      "cell_type": "code",
      "source": [
        "# Hyperparameter tuning for K Neighbors Classifier\n",
        "grid_k = GridSearchCV(\n",
        "    pipeline_k,\n",
        "    param_grid={\"kneighborsclassifier__n_neighbors\": range(5,50),\n",
        "                \"kneighborsclassifier__metric\": ['euclidean', 'manhattan', 'cosine']    \n",
        "    },\n",
        "    scoring = \"f1_micro\",\n",
        "    cv = 4,\n",
        "    return_train_score=True)\n",
        "\n",
        "grid_k.fit(df[all],df[\"Popularity Categories\"])\n",
        "\n",
        "print(grid_k.best_params_)\n",
        "print(grid_k.best_score_)"
      ],
      "metadata": {
        "colab": {
          "base_uri": "https://localhost:8080/"
        },
        "id": "aC9zjJn34qAH",
        "outputId": "c5bd81ae-a001-4f1f-89ea-8b65e39fc2dd"
      },
      "execution_count": 15,
      "outputs": [
        {
          "output_type": "stream",
          "name": "stdout",
          "text": [
            "{'kneighborsclassifier__metric': 'manhattan', 'kneighborsclassifier__n_neighbors': 31}\n",
            "0.5928160919540231\n"
          ]
        }
      ]
    },
    {
      "cell_type": "code",
      "source": [
        "# Plot of hyperparameter tuning for K Neighbors Classifier\n",
        "pd.Series(grid_k.cv_results_['mean_train_score'], index = range(15,150)).plot.line()\n",
        "pd.Series(grid_k.cv_results_['mean_test_score'], index = range(15,150)).plot.line()"
      ],
      "metadata": {
        "colab": {
          "base_uri": "https://localhost:8080/",
          "height": 282
        },
        "id": "SR7h8ipMIfvH",
        "outputId": "0f542309-f82e-42d0-e4e3-c7396775e210"
      },
      "execution_count": 16,
      "outputs": [
        {
          "output_type": "execute_result",
          "data": {
            "text/plain": [
              "<Axes: >"
            ]
          },
          "metadata": {},
          "execution_count": 16
        },
        {
          "output_type": "display_data",
          "data": {
            "text/plain": [
              "<Figure size 432x288 with 1 Axes>"
            ],
            "image/png": "[encoded data removed]"
          },
          "metadata": {
            "needs_background": "light"
          }
        }
      ]
    },
    {
      "cell_type": "code",
      "source": [
        "# Best K Neighbors Classifier pipeline\n",
        "pipeline_k = make_pipeline(\n",
        "    col_transformer,\n",
        "    KNeighborsClassifier(n_neighbors=33, metric=\"manhattan\")\n",
        ")"
      ],
      "metadata": {
        "id": "YJSyc19v8VWW"
      },
      "execution_count": 17,
      "outputs": []
    },
    {
      "cell_type": "markdown",
      "source": [
        "From this we see that the optimal value of k is 33, and the best distance metric to use is manhattan. \n",
        "\n",
        "Note: The orange line in the graph refers to estimated test error. The peak is roughly near 90, which is nearly 3 times 33. Again, since each choice of k also has an associated 3 different metrics, we have to scale the graph by 3. "
      ],
      "metadata": {
        "id": "f6ZE97gWohC3"
      }
    },
    {
      "cell_type": "markdown",
      "source": [
        "### **Other Classifiers**"
      ],
      "metadata": {
        "id": "NgZ4rMjp5I-x"
      }
    },
    {
      "cell_type": "markdown",
      "source": [
        "The next thing we do is test other classifier models to see which one gives the best predictions. Using a for loop and cross val score with f1 micro scoring metric, we evaluate RandomForestClassifier, GradientBoostingClassifier, BaggingClassifier, KNeighborsClassifier, AdaBoostClassifier, and ExtraTreesClassifier"
      ],
      "metadata": {
        "id": "XKeEhbwjooy4"
      }
    },
    {
      "cell_type": "code",
      "source": [
        "# Testing different classifier models for best training score\n",
        "from sklearn.ensemble import RandomForestClassifier, GradientBoostingClassifier, BaggingClassifier, AdaBoostClassifier, ExtraTreesClassifier\n",
        "\n",
        "classifiers = [RandomForestClassifier(), GradientBoostingClassifier(), BaggingClassifier(),  \n",
        "               KNeighborsClassifier(), AdaBoostClassifier(), ExtraTreesClassifier()] \n",
        "\n",
        "for i in range(len(classifiers)):\n",
        "  pipeline = make_pipeline(\n",
        "    col_transformer,\n",
        "    classifiers[i]\n",
        "  )\n",
        "\n",
        "  scores = cross_val_score(\n",
        "    pipeline,\n",
        "    X = df[all],\n",
        "    y = df[\"Popularity Categories\"],\n",
        "    scoring = \"f1_micro\",\n",
        "    cv = 4, \n",
        "\n",
        "  )\n",
        "\n",
        "  print(classifiers[i])\n",
        "  print(scores.mean())"
      ],
      "metadata": {
        "colab": {
          "base_uri": "https://localhost:8080/"
        },
        "id": "2xe_JwmH-L4d",
        "outputId": "c786651e-dcf3-4c8f-d249-7a1b09cb8e22"
      },
      "execution_count": 18,
      "outputs": [
        {
          "output_type": "stream",
          "name": "stdout",
          "text": [
            "RandomForestClassifier()\n",
            "0.542816091954023\n",
            "GradientBoostingClassifier()\n",
            "0.5008620689655172\n",
            "BaggingClassifier()\n",
            "0.5419540229885057\n",
            "KNeighborsClassifier()\n",
            "0.45632183908045976\n",
            "AdaBoostClassifier()\n",
            "0.4330459770114942\n",
            "ExtraTreesClassifier()\n",
            "0.4913793103448276\n"
          ]
        }
      ]
    },
    {
      "cell_type": "markdown",
      "source": [
        "Top 3 models which give the best score are K Nearest Classifier, RandomForestClassifier, and BaggingClassifier. (Note, in the most recent run of the program before submission, gradient boost did better than KNN, but before that KNN consistenly placed in the top 3)"
      ],
      "metadata": {
        "id": "4wB7ewyvBd4l"
      }
    },
    {
      "cell_type": "markdown",
      "source": [
        "Now we do hyperparameter tuning for the other two models: RandomForestClassifier and BaggingClassifier to find the best number of estimators."
      ],
      "metadata": {
        "id": "CcIunyFBpLgP"
      }
    },
    {
      "cell_type": "code",
      "source": [
        "# Pipeline for Random Forest Classifier\n",
        "pipeline_rfc = make_pipeline(\n",
        "    col_transformer,\n",
        "    RandomForestClassifier(n_estimators=34)\n",
        "  )"
      ],
      "metadata": {
        "id": "nWneyEmFLihF"
      },
      "execution_count": 10,
      "outputs": []
    },
    {
      "cell_type": "code",
      "source": [
        "# Hyperparameter Tuning for Random Forest Classifier\n",
        "grid_rfc = GridSearchCV(\n",
        "    pipeline_rfc,\n",
        "    param_grid={\"randomforestclassifier__n_estimators\": range(10,60)    \n",
        "    },\n",
        "    scoring = \"f1_micro\",\n",
        "    cv = 4,\n",
        "    return_train_score=True)\n",
        "\n",
        "grid_rfc.fit(df[all],df[\"Popularity Categories\"])\n",
        "\n",
        "pd.Series(grid_rfc.cv_results_['mean_train_score'], index = range(10,60)).plot.line()\n",
        "\n",
        "print(grid_rfc.best_params_)\n",
        "print(grid_rfc.best_score_)"
      ],
      "metadata": {
        "colab": {
          "base_uri": "https://localhost:8080/",
          "height": 299
        },
        "id": "Xm5JQvemsiC-",
        "outputId": "1570cd75-34ed-4e61-fde5-617eb86e15d9"
      },
      "execution_count": 11,
      "outputs": [
        {
          "output_type": "stream",
          "name": "stdout",
          "text": [
            "{'randomforestclassifier__n_estimators': 55}\n",
            "0.610919540229885\n"
          ]
        },
        {
          "output_type": "display_data",
          "data": {
            "text/plain": [
              "<Figure size 432x288 with 1 Axes>"
            ],
            "image/png": "[encoded data removed]"
          },
          "metadata": {
            "needs_background": "light"
          }
        }
      ]
    },
    {
      "cell_type": "code",
      "source": [
        "#New rfc pipeline\n",
        "pipeline_rfc = make_pipeline(\n",
        "    col_transformer,\n",
        "    RandomForestClassifier(n_estimators=55)\n",
        "  )"
      ],
      "metadata": {
        "id": "44mDGPPh79Ak"
      },
      "execution_count": 12,
      "outputs": []
    },
    {
      "cell_type": "markdown",
      "source": [
        "We see that the optimal number of estimators for the RandomForestClassifier is 55."
      ],
      "metadata": {
        "id": "_KDC2NNYpewH"
      }
    },
    {
      "cell_type": "code",
      "source": [
        "# Pipeline for Bagging Classifier\n",
        "pipeline_bag = make_pipeline(\n",
        "    col_transformer,\n",
        "    BaggingClassifier()\n",
        "  )"
      ],
      "metadata": {
        "id": "EgGmTHXuL3ce"
      },
      "execution_count": 13,
      "outputs": []
    },
    {
      "cell_type": "code",
      "source": [
        "# Hyperparameter tuning for Bagging Classifier\n",
        "grid_bag = GridSearchCV(\n",
        "    pipeline_bag,\n",
        "    param_grid={\"baggingclassifier__n_estimators\": range(10,101)    \n",
        "    },\n",
        "    scoring = \"f1_micro\",\n",
        "    cv = 4,\n",
        "    return_train_score=True)\n",
        "\n",
        "grid_bag.fit(df[all],df[\"Popularity Categories\"])\n",
        "\n",
        "pd.Series(grid_bag.cv_results_['mean_train_score'], index = range(10,101)).plot.line()\n",
        "\n",
        "print(grid_bag.best_params_)\n",
        "print(grid_bag.best_score_)"
      ],
      "metadata": {
        "colab": {
          "base_uri": "https://localhost:8080/",
          "height": 299
        },
        "id": "UldNygcW22wn",
        "outputId": "31fe05ad-8d68-4008-ce55-f9a182092be2"
      },
      "execution_count": 14,
      "outputs": [
        {
          "output_type": "stream",
          "name": "stdout",
          "text": [
            "{'baggingclassifier__n_estimators': 41}\n",
            "0.6195402298850574\n"
          ]
        },
        {
          "output_type": "display_data",
          "data": {
            "text/plain": [
              "<Figure size 432x288 with 1 Axes>"
            ],
            "image/png": "[encoded data removed]"
          },
          "metadata": {
            "needs_background": "light"
          }
        }
      ]
    },
    {
      "cell_type": "code",
      "source": [
        "# Pipeline for Bagging Classifier\n",
        "pipeline_bag = make_pipeline(\n",
        "    col_transformer,\n",
        "    BaggingClassifier(n_estimators = 41)\n",
        "  )"
      ],
      "metadata": {
        "id": "4Pl7YBG692qa"
      },
      "execution_count": 20,
      "outputs": []
    },
    {
      "cell_type": "markdown",
      "source": [
        "We see that the optimal number of estimators for the BaggingClassifier is 41 and is better than both KNN and RFC"
      ],
      "metadata": {
        "id": "VykcK7YBp6zf"
      }
    },
    {
      "cell_type": "markdown",
      "source": [
        "After hyperparameter tuning for the top 3 models, we see that Bagging Classifier has the best score overall."
      ],
      "metadata": {
        "id": "7WOZ3fNsBtGG"
      }
    },
    {
      "cell_type": "markdown",
      "source": [
        "### **XGBoost**\n",
        "\n",
        "We also tried XGBoost, but it didn't beat Bagging Classifier"
      ],
      "metadata": {
        "id": "ez-_Wrvo5Y3N"
      }
    },
    {
      "cell_type": "code",
      "source": [
        "!pip install xgboost"
      ],
      "metadata": {
        "colab": {
          "base_uri": "https://localhost:8080/"
        },
        "id": "hEwmHDaV-G6M",
        "outputId": "2a622ad0-28dd-45d9-a25d-69160b10cc12"
      },
      "execution_count": null,
      "outputs": [
        {
          "output_type": "stream",
          "name": "stdout",
          "text": [
            "Looking in indexes: https://pypi.org/simple, https://us-python.pkg.dev/colab-wheels/public/simple/\n",
            "Requirement already satisfied: xgboost in /usr/local/lib/python3.9/dist-packages (1.7.4)\n",
            "Requirement already satisfied: scipy in /usr/local/lib/python3.9/dist-packages (from xgboost) (1.10.1)\n",
            "Requirement already satisfied: numpy in /usr/local/lib/python3.9/dist-packages (from xgboost) (1.22.4)\n"
          ]
        }
      ]
    },
    {
      "cell_type": "code",
      "source": [
        "from sklearn.preprocessing import LabelEncoder\n",
        "import xgboost as xgb\n",
        "\n",
        "pipeline2 = make_pipeline(\n",
        "    col_transformer,\n",
        "    xgb.XGBClassifier()\n",
        ")\n",
        "\n",
        "scores = cross_val_score(\n",
        "    pipeline2,\n",
        "    X = df[all],\n",
        "    y = LabelEncoder().fit_transform(df[\"Popularity Categories\"]),\n",
        "    scoring = \"accuracy\",\n",
        "    cv = 4, \n",
        ")\n",
        "\n",
        "scores[1:].mean()"
      ],
      "metadata": {
        "colab": {
          "base_uri": "https://localhost:8080/"
        },
        "id": "oSYZjo_U7LVC",
        "outputId": "6240a910-60e5-463e-cb08-11ee0402c2b6"
      },
      "execution_count": null,
      "outputs": [
        {
          "output_type": "execute_result",
          "data": {
            "text/plain": [
              "0.5"
            ]
          },
          "metadata": {},
          "execution_count": 41
        }
      ]
    },
    {
      "cell_type": "markdown",
      "source": [
        "### **Ensemble Methods**"
      ],
      "metadata": {
        "id": "V1_8IX1P5ixQ"
      }
    },
    {
      "cell_type": "markdown",
      "source": [
        "After evaluating the different classifier models individually, we next try two ensemble methods which combine the models: Stacking (which uses a logisitic regressor to combine the models) and Voting (which averages the predictions of all the models)."
      ],
      "metadata": {
        "id": "wCFaymePlc0H"
      }
    },
    {
      "cell_type": "code",
      "source": [
        "# top 3 classifier models\n",
        "pipelines = [('knn', pipeline_k), ('rfc', pipeline_rfc), ('bag', pipeline_bag)]"
      ],
      "metadata": {
        "id": "2FxLjA97w7DC"
      },
      "execution_count": 21,
      "outputs": []
    },
    {
      "cell_type": "code",
      "source": [
        "# creating a stacker model using the pairs of pipelines\n",
        "from sklearn.ensemble import StackingClassifier\n",
        "from sklearn.linear_model import LogisticRegression\n",
        "\n",
        "for i in range(len(pipelines)):\n",
        "  for j in range(len(pipelines)):\n",
        "    if i == j:\n",
        "      continue\n",
        "    estimators = [\n",
        "      pipelines[i],\n",
        "      pipelines[j]\n",
        "    ]\n",
        "\n",
        "    # stacker model uses Logistic Regression\n",
        "    clf = StackingClassifier(\n",
        "      estimators=estimators, final_estimator=LogisticRegression()\n",
        "    )    \n",
        "\n",
        "    scores = cross_val_score(\n",
        "      clf,\n",
        "      X = df[all],\n",
        "      y = df[\"Popularity Categories\"],\n",
        "      scoring = \"f1_micro\",\n",
        "      cv = 4, \n",
        "    )\n",
        "\n",
        "    print(pipelines[i][0], pipelines[j][0])\n",
        "    print(scores.mean())"
      ],
      "metadata": {
        "colab": {
          "base_uri": "https://localhost:8080/"
        },
        "id": "tt-OcgrlsRwd",
        "outputId": "2bfec1a8-3210-47e3-edd6-97f990932f69"
      },
      "execution_count": 22,
      "outputs": [
        {
          "output_type": "stream",
          "name": "stdout",
          "text": [
            "knn rfc\n",
            "0.5683908045977012\n",
            "knn bag\n",
            "0.5772988505747126\n",
            "rfc knn\n",
            "0.6112068965517241\n",
            "rfc bag\n",
            "0.6201149425287357\n",
            "bag knn\n",
            "0.5341954022988505\n",
            "bag rfc\n",
            "0.5942528735632184\n"
          ]
        }
      ]
    },
    {
      "cell_type": "markdown",
      "source": [
        "From this we see that RFC and bagging classifier stacked have the highest score so far"
      ],
      "metadata": {
        "id": "hL5h_FGTqWjE"
      }
    },
    {
      "cell_type": "code",
      "source": [
        "# creating a voting model using the top 3 classifier models\n",
        "from sklearn.ensemble import VotingClassifier\n",
        "vc = VotingClassifier(estimators=[\n",
        "    ('knn', pipeline_k), ('rfc', pipeline_rfc), ('bag', pipeline_bag)], \n",
        "    voting='hard')\n",
        "\n",
        "scores = cross_val_score(\n",
        "      vc,\n",
        "      X = df[all],\n",
        "      y = df[\"Popularity Categories\"],\n",
        "      scoring = \"f1_micro\",\n",
        "      cv = 4, \n",
        "    )\n",
        "\n",
        "print(scores.mean())"
      ],
      "metadata": {
        "colab": {
          "base_uri": "https://localhost:8080/"
        },
        "id": "wIlX0g5O0pCM",
        "outputId": "c2ae3e0f-4f69-4b10-8b5b-9fa2e55d421f"
      },
      "execution_count": 23,
      "outputs": [
        {
          "output_type": "stream",
          "name": "stdout",
          "text": [
            "0.5847701149425287\n"
          ]
        }
      ]
    },
    {
      "cell_type": "markdown",
      "source": [
        "As we can see, the voting method on all 3 models does not score as well. "
      ],
      "metadata": {
        "id": "NVRywFOaCO06"
      }
    },
    {
      "cell_type": "markdown",
      "source": [
        "Hence, here's the final best pipeline: "
      ],
      "metadata": {
        "id": "95bfnGgkCNsm"
      }
    },
    {
      "cell_type": "code",
      "source": [
        "clf_final = StackingClassifier(\n",
        "      estimators=[('rfc', pipeline_rfc), ('bag', pipeline_bag)], final_estimator=LogisticRegression()\n",
        "    )"
      ],
      "metadata": {
        "id": "2tcXtvcHCQAM"
      },
      "execution_count": 25,
      "outputs": []
    },
    {
      "cell_type": "markdown",
      "source": [
        "### Conclusion\n",
        "\n",
        "After trying many models and trying different combinations of features, as well as hyperparamater tuning, we settled on the best model being a stacked model of Random forest classifier and bagging classifier. We used an f1 score because it would optimize both precision and recall and would be a more insightful metric than accuracy. We evaluated this score by estimating test error using cross-validation \n",
        "\n",
        "While 62% seems low, its still significant because (1) we had 3 classes not 2 and (2) hip hop popularity is ridiculously hard to predict: it has many subgenres and is a vary diverse genre, different people flock to different rap songs for a variety of reasons and there's often no common denominator for virality."
      ],
      "metadata": {
        "id": "uf60_yuc5q8Y"
      }
    },
    {
      "cell_type": "markdown",
      "source": [
        "# Real Life Extension: Testing "
      ],
      "metadata": {
        "id": "gwRBqzBYNGOs"
      }
    },
    {
      "cell_type": "markdown",
      "source": [
        "Once we decided on our model, we decided to use it on an emerging artist's new track. Suhas, one of our friends, is an artist who recently released his first hiphop track on Spotify. We used the Spotify API to collect data about his track."
      ],
      "metadata": {
        "id": "vl11XOP7x9AN"
      }
    },
    {
      "cell_type": "code",
      "source": [
        "import pandas as pd\n",
        "dfTest = pd.read_csv('/content/suhas.csv')\n",
        "dfTest = dfTest.iloc[: , 1:]\n",
        "\n",
        "dfTest"
      ],
      "metadata": {
        "colab": {
          "base_uri": "https://localhost:8080/",
          "height": 343
        },
        "id": "NczmC77oBztl",
        "outputId": "7a116c87-6967-40df-a79e-c115a3556bbd"
      },
      "execution_count": 24,
      "outputs": [
        {
          "output_type": "execute_result",
          "data": {
            "text/plain": [
              "    Title  Popularity Artist   Album  Number of Tracks in Album  \\\n",
              "0  POPPIN          15  SUHAS  POPPIN                          1   \n",
              "\n",
              "                                     Related Artists  Explicit  \\\n",
              "0  Reyaan Luthra, K4Y, Ronn, Rohan Prakash, Mm Sr...      True   \n",
              "\n",
              "   Number of Segments  brightness   flatness  ...  mode  speechiness  \\\n",
              "0                 410   55.505144 -42.721707  ...     0        0.102   \n",
              "\n",
              "   instrumentalness  liveness  valence    tempo  duration  time_signature  \\\n",
              "0                 0     0.115    0.423  133.956    101050               4   \n",
              "\n",
              "   fade in  fade out  \n",
              "0      0.0  98.02304  \n",
              "\n",
              "[1 rows x 25 columns]"
            ],
            "text/html": [
              "\n",
              "  <div id=\"df-5e6f1b8e-1bd7-47f3-a361-e84e55b68c3a\">\n",
              "    <div class=\"colab-df-container\">\n",
              "      <div>\n",
              "<style scoped>\n",
              "    .dataframe tbody tr th:only-of-type {\n",
              "        vertical-align: middle;\n",
              "    }\n",
              "\n",
              "    .dataframe tbody tr th {\n",
              "        vertical-align: top;\n",
              "    }\n",
              "\n",
              "    .dataframe thead th {\n",
              "        text-align: right;\n",
              "    }\n",
              "</style>\n",
              "<table border=\"1\" class=\"dataframe\">\n",
              "  <thead>\n",
              "    <tr style=\"text-align: right;\">\n",
              "      <th></th>\n",
              "      <th>Title</th>\n",
              "      <th>Popularity</th>\n",
              "      <th>Artist</th>\n",
              "      <th>Album</th>\n",
              "      <th>Number of Tracks in Album</th>\n",
              "      <th>Related Artists</th>\n",
              "      <th>Explicit</th>\n",
              "      <th>Number of Segments</th>\n",
              "      <th>brightness</th>\n",
              "      <th>flatness</th>\n",
              "      <th>...</th>\n",
              "      <th>mode</th>\n",
              "      <th>speechiness</th>\n",
              "      <th>instrumentalness</th>\n",
              "      <th>liveness</th>\n",
              "      <th>valence</th>\n",
              "      <th>tempo</th>\n",
              "      <th>duration</th>\n",
              "      <th>time_signature</th>\n",
              "      <th>fade in</th>\n",
              "      <th>fade out</th>\n",
              "    </tr>\n",
              "  </thead>\n",
              "  <tbody>\n",
              "    <tr>\n",
              "      <th>0</th>\n",
              "      <td>POPPIN</td>\n",
              "      <td>15</td>\n",
              "      <td>SUHAS</td>\n",
              "      <td>POPPIN</td>\n",
              "      <td>1</td>\n",
              "      <td>Reyaan Luthra, K4Y, Ronn, Rohan Prakash, Mm Sr...</td>\n",
              "      <td>True</td>\n",
              "      <td>410</td>\n",
              "      <td>55.505144</td>\n",
              "      <td>-42.721707</td>\n",
              "      <td>...</td>\n",
              "      <td>0</td>\n",
              "      <td>0.102</td>\n",
              "      <td>0</td>\n",
              "      <td>0.115</td>\n",
              "      <td>0.423</td>\n",
              "      <td>133.956</td>\n",
              "      <td>101050</td>\n",
              "      <td>4</td>\n",
              "      <td>0.0</td>\n",
              "      <td>98.02304</td>\n",
              "    </tr>\n",
              "  </tbody>\n",
              "</table>\n",
              "<p>1 rows × 25 columns</p>\n",
              "</div>\n",
              "      <button class=\"colab-df-convert\" onclick=\"convertToInteractive('df-5e6f1b8e-1bd7-47f3-a361-e84e55b68c3a')\"\n",
              "              title=\"Convert this dataframe to an interactive table.\"\n",
              "              style=\"display:none;\">\n",
              "        \n",
              "  <svg xmlns=\"http://www.w3.org/2000/svg\" height=\"24px\"viewBox=\"0 0 24 24\"\n",
              "       width=\"24px\">\n",
              "    <path d=\"M0 0h24v24H0V0z\" fill=\"none\"/>\n",
              "    <path d=\"M18.56 5.44l.94 2.06.94-2.06 2.06-.94-2.06-.94-.94-2.06-.94 2.06-2.06.94zm-11 1L8.5 8.5l.94-2.06 2.06-.94-2.06-.94L8.5 2.5l-.94 2.06-2.06.94zm10 10l.94 2.06.94-2.06 2.06-.94-2.06-.94-.94-2.06-.94 2.06-2.06.94z\"/><path d=\"M17.41 7.96l-1.37-1.37c-.4-.4-.92-.59-1.43-.59-.52 0-1.04.2-1.43.59L10.3 9.45l-7.72 7.72c-.78.78-.78 2.05 0 2.83L4 21.41c.39.39.9.59 1.41.59.51 0 1.02-.2 1.41-.59l7.78-7.78 2.81-2.81c.8-.78.8-2.07 0-2.86zM5.41 20L4 18.59l7.72-7.72 1.47 1.35L5.41 20z\"/>\n",
              "  </svg>\n",
              "      </button>\n",
              "      \n",
              "  <style>\n",
              "    .colab-df-container {\n",
              "      display:flex;\n",
              "      flex-wrap:wrap;\n",
              "      gap: 12px;\n",
              "    }\n",
              "\n",
              "    .colab-df-convert {\n",
              "      background-color: #E8F0FE;\n",
              "      border: none;\n",
              "      border-radius: 50%;\n",
              "      cursor: pointer;\n",
              "      display: none;\n",
              "      fill: #1967D2;\n",
              "      height: 32px;\n",
              "      padding: 0 0 0 0;\n",
              "      width: 32px;\n",
              "    }\n",
              "\n",
              "    .colab-df-convert:hover {\n",
              "      background-color: #E2EBFA;\n",
              "      box-shadow: 0px 1px 2px rgba(60, 64, 67, 0.3), 0px 1px 3px 1px rgba(60, 64, 67, 0.15);\n",
              "      fill: #174EA6;\n",
              "    }\n",
              "\n",
              "    [theme=dark] .colab-df-convert {\n",
              "      background-color: #3B4455;\n",
              "      fill: #D2E3FC;\n",
              "    }\n",
              "\n",
              "    [theme=dark] .colab-df-convert:hover {\n",
              "      background-color: #434B5C;\n",
              "      box-shadow: 0px 1px 3px 1px rgba(0, 0, 0, 0.15);\n",
              "      filter: drop-shadow(0px 1px 2px rgba(0, 0, 0, 0.3));\n",
              "      fill: #FFFFFF;\n",
              "    }\n",
              "  </style>\n",
              "\n",
              "      <script>\n",
              "        const buttonEl =\n",
              "          document.querySelector('#df-5e6f1b8e-1bd7-47f3-a361-e84e55b68c3a button.colab-df-convert');\n",
              "        buttonEl.style.display =\n",
              "          google.colab.kernel.accessAllowed ? 'block' : 'none';\n",
              "\n",
              "        async function convertToInteractive(key) {\n",
              "          const element = document.querySelector('#df-5e6f1b8e-1bd7-47f3-a361-e84e55b68c3a');\n",
              "          const dataTable =\n",
              "            await google.colab.kernel.invokeFunction('convertToInteractive',\n",
              "                                                     [key], {});\n",
              "          if (!dataTable) return;\n",
              "\n",
              "          const docLinkHtml = 'Like what you see? Visit the ' +\n",
              "            '<a target=\"_blank\" href=https://colab.research.google.com/notebooks/data_table.ipynb>data table notebook</a>'\n",
              "            + ' to learn more about interactive tables.';\n",
              "          element.innerHTML = '';\n",
              "          dataTable['output_type'] = 'display_data';\n",
              "          await google.colab.output.renderOutput(dataTable, element);\n",
              "          const docLink = document.createElement('div');\n",
              "          docLink.innerHTML = docLinkHtml;\n",
              "          element.appendChild(docLink);\n",
              "        }\n",
              "      </script>\n",
              "    </div>\n",
              "  </div>\n",
              "  "
            ]
          },
          "metadata": {},
          "execution_count": 24
        }
      ]
    },
    {
      "cell_type": "markdown",
      "source": [
        "Once we stored all the information about the track in a DataFrame, we used our model to predict his popularity category."
      ],
      "metadata": {
        "id": "B3xTTAPqyfdE"
      }
    },
    {
      "cell_type": "code",
      "source": [
        "clf_final.fit(df[all], df[\"Popularity Categories\"])\n",
        "result = clf_final.predict(dfTest[all])"
      ],
      "metadata": {
        "id": "9t8a4xZFbbzb"
      },
      "execution_count": 26,
      "outputs": []
    },
    {
      "cell_type": "code",
      "source": [
        "result"
      ],
      "metadata": {
        "colab": {
          "base_uri": "https://localhost:8080/"
        },
        "id": "MLU8JFkVb0OA",
        "outputId": "9cebfb14-168d-4278-eaf8-b466394e41d9"
      },
      "execution_count": 27,
      "outputs": [
        {
          "output_type": "execute_result",
          "data": {
            "text/plain": [
              "array(['Medium'], dtype=object)"
            ]
          },
          "metadata": {},
          "execution_count": 27
        }
      ]
    },
    {
      "cell_type": "markdown",
      "source": [
        "Interestingly, our model predicted medium. However, since popularity remains incredibly difficult to predict, and our model only has around 62% accuracy, we can keep our fingers crossed that he can still make it big!"
      ],
      "metadata": {
        "id": "7K31qer4yrFs"
      }
    }
  ],
  "metadata": {
    "colab": {
      "provenance": []
    },
    "kernelspec": {
      "display_name": "Python 3",
      "name": "python3"
    },
    "language_info": {
      "name": "python"
    }
  },
  "nbformat": 4,
  "nbformat_minor": 0
}